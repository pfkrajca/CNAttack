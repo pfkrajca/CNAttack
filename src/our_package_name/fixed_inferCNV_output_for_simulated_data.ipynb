{
  "nbformat": 4,
  "nbformat_minor": 0,
  "metadata": {
    "colab": {
      "provenance": []
    },
    "kernelspec": {
      "name": "python3",
      "display_name": "Python 3"
    },
    "language_info": {
      "name": "python"
    }
  },
  "cells": [
    {
      "cell_type": "code",
      "execution_count": null,
      "metadata": {
        "colab": {
          "base_uri": "https://localhost:8080/"
        },
        "id": "nO2sG7l5Vm_K",
        "outputId": "21c011ff-ddcc-4395-f9ec-6ee9c86517d5"
      },
      "outputs": [
        {
          "output_type": "stream",
          "name": "stdout",
          "text": [
            "Mounted at /content/drive\n"
          ]
        }
      ],
      "source": [
        "# Connect to google drive\n",
        "from google.colab import drive\n",
        "drive.mount('/content/drive')"
      ]
    },
    {
      "cell_type": "code",
      "source": [
        "import pandas as pd\n",
        "import re\n",
        "\n",
        "# Path to your input file\n",
        "file_path = \"/content/drive/My Drive/compscfiles/inferCNV_out/annotations.txt\"\n",
        "\n",
        "# Prepare storage for rows\n",
        "rows = []\n",
        "\n",
        "# Parse the file\n",
        "with open(file_path, 'r') as f:\n",
        "    for line in f:\n",
        "        line = line.strip()\n",
        "        if not line:\n",
        "            continue\n",
        "\n",
        "        parts = line.split('\\t')\n",
        "        if len(parts) < 2:\n",
        "            continue  # Skip if no annotation\n",
        "\n",
        "        cell_id, annotation = parts\n",
        "        if annotation.lower() == \"normal\":\n",
        "            continue  # Skip normal cells\n",
        "\n",
        "        cnv_entries = annotation.split(';')\n",
        "        for cnv in cnv_entries:\n",
        "            cnv = cnv.strip()\n",
        "            match = re.match(r\"(loss|gain)_(\\d+)_([\\d]+)-([\\d]+)\", cnv)\n",
        "            if match:\n",
        "                event, chrom, start, end = match.groups()\n",
        "                rows.append({\n",
        "                    \"cell_id\": cell_id,\n",
        "                    \"event\": event,\n",
        "                    \"chromosome\": f\"chr{chrom}\",\n",
        "                    \"start\": int(start),\n",
        "                    \"end\": int(end)\n",
        "                })\n",
        "\n",
        "# Create DataFrame\n",
        "df = pd.DataFrame(rows)\n",
        "\n",
        "# Preview\n",
        "print(df.head())\n",
        "\n"
      ],
      "metadata": {
        "colab": {
          "base_uri": "https://localhost:8080/"
        },
        "id": "AensPny4Vst0",
        "outputId": "c1049fbc-a382-4cc0-a9bc-6b6841b6b062"
      },
      "execution_count": null,
      "outputs": [
        {
          "output_type": "stream",
          "name": "stdout",
          "text": [
            "              cell_id event chromosome  start  end\n",
            "0  TTTCATGGTAGCTAAA-1  loss       chr1      5   20\n",
            "1  TTTCATGGTAGCTAAA-1  gain       chr9    150  300\n",
            "2  TGATGCAGTCTTCAAG-1  gain      chr22      5   20\n",
            "3  TGATGCAGTCTTCAAG-1  loss      chr16      5   20\n",
            "4  TGATGCAGTCTTCAAG-1  loss       chr1      5   20\n"
          ]
        }
      ]
    },
    {
      "cell_type": "code",
      "source": [
        "import pandas as pd\n",
        "\n",
        "# Copy original dataframe\n",
        "df2 = df.copy()\n",
        "\n",
        "# Step 1: Merge overlapping CNVs per chromosome and event\n",
        "def merge_overlapping_regions(sub_df):\n",
        "    \"\"\"Merge overlapping intervals within the same chromosome and event\"\"\"\n",
        "    sub_df = sub_df.sort_values(by='start').reset_index(drop=True)\n",
        "    merged = []\n",
        "    current = sub_df.iloc[0].copy()\n",
        "\n",
        "    for i in range(1, len(sub_df)):\n",
        "        row = sub_df.iloc[i]\n",
        "        if row['start'] <= current['end']:  # overlapping\n",
        "            current['end'] = max(current['end'], row['end'])\n",
        "        else:\n",
        "            merged.append(current.copy())\n",
        "            current = row.copy()\n",
        "    merged.append(current)\n",
        "    return pd.DataFrame(merged)\n",
        "\n",
        "# Step 2: Apply merging per chromosome + event (gain/loss)\n",
        "merged_dfs = []\n",
        "for (chrom, event), group in df2.groupby(['chromosome', 'event']):\n",
        "    merged = merge_overlapping_regions(group[['chromosome', 'start', 'end']])\n",
        "    merged['event'] = event\n",
        "    merged['chromosome'] = chrom\n",
        "    merged_dfs.append(merged)\n",
        "\n",
        "# Combine all merged regions\n",
        "merged_regions = pd.concat(merged_dfs, ignore_index=True)\n",
        "\n",
        "# Step 3: Assign each row in df2 to a merged region string\n",
        "def assign_region(row, regions):\n",
        "    matches = regions[\n",
        "        (regions['chromosome'] == row['chromosome']) &\n",
        "        (regions['event'] == row['event']) &\n",
        "        (regions['start'] <= row['end']) &\n",
        "        (regions['end'] >= row['start'])\n",
        "    ]\n",
        "    if not matches.empty:\n",
        "        match = matches.iloc[0]\n",
        "        return f\"{match['event']}_{match['chromosome'].replace('chr', '')}_{match['start']}-{match['end']}\"\n",
        "    return None\n",
        "\n",
        "df2['region_str'] = df2.apply(lambda row: assign_region(row, merged_regions), axis=1)\n",
        "\n",
        "# Step 4: Aggregate CNVs per cell\n",
        "cell_to_cnv = df2.groupby('cell_id')['region_str'].apply(\n",
        "    lambda x: ';'.join(sorted(set(x.dropna())))\n",
        ").reset_index()\n",
        "\n",
        "cell_to_cnv.columns = ['cell_id', 'simulated_cnvs']\n",
        "\n",
        "# Step 5: Count unique CNV patterns\n",
        "cnv_counts = cell_to_cnv['simulated_cnvs'].value_counts()\n",
        "\n",
        "# Show the result\n",
        "print(cnv_counts)\n",
        "\n"
      ],
      "metadata": {
        "colab": {
          "base_uri": "https://localhost:8080/"
        },
        "id": "L_flaXVpVwq6",
        "outputId": "1cbe7d03-85a0-4a3f-b367-351352a27e42"
      },
      "execution_count": null,
      "outputs": [
        {
          "output_type": "stream",
          "name": "stdout",
          "text": [
            "simulated_cnvs\n",
            "loss_2_30-100                                                             41\n",
            "loss_1_5-20;loss_2_30-100                                                 25\n",
            "gain_9_150-300;loss_1_5-20                                                23\n",
            "loss_1_5-20                                                               20\n",
            "gain_9_150-300;loss_2_30-100                                              18\n",
            "                                                                          ..\n",
            "gain_16_150-300;gain_4_30-100;gain_9_150-300;loss_16_5-20;loss_1_5-20      1\n",
            "gain_16_150-300;gain_4_30-100;gain_8_30-100;loss_16_5-20;loss_2_30-100     1\n",
            "gain_16_150-300;gain_22_5-20;loss_16_5-20                                  1\n",
            "gain_8_30-100;loss_16_5-20;loss_1_5-20                                     1\n",
            "gain_16_150-300;gain_8_30-100;loss_2_30-100                                1\n",
            "Name: count, Length: 132, dtype: int64\n"
          ]
        }
      ]
    },
    {
      "cell_type": "code",
      "source": [
        "# Step 1: Extract just the relevant columns\n",
        "df_detected = df2[['cell_id', 'event', 'chromosome', 'start', 'end']].drop_duplicates()\n",
        "\n",
        "# Step 2: Count how many cells each unique CNV was found in\n",
        "cnv_summary = (\n",
        "    df_detected\n",
        "    .groupby(['event', 'chromosome', 'start', 'end'])\n",
        "    .agg(n_cells=('cell_id', 'nunique'))\n",
        "    .reset_index()\n",
        ")\n",
        "\n",
        "# Step 3: Add frequency if you want (optional)\n",
        "total_cells = df2['cell_id'].nunique()\n",
        "cnv_summary['frequency'] = cnv_summary['n_cells'] / total_cells\n",
        "\n",
        "# Step 4: Sort by most frequent\n",
        "cnv_summary = cnv_summary.sort_values('n_cells', ascending=False)\n",
        "\n",
        "# View\n",
        "print(cnv_summary)\n"
      ],
      "metadata": {
        "colab": {
          "base_uri": "https://localhost:8080/"
        },
        "id": "dQGemYt_ftat",
        "outputId": "87a34854-4bfa-4465-d4c5-048a6b04be5e"
      },
      "execution_count": null,
      "outputs": [
        {
          "output_type": "stream",
          "name": "stdout",
          "text": [
            "  event chromosome  start  end  n_cells  frequency\n",
            "8  loss       chr2     30  100      314   0.566787\n",
            "6  loss       chr1      5   20      250   0.451264\n",
            "5  gain       chr9    150  300      224   0.404332\n",
            "3  gain       chr4     30  100      156   0.281588\n",
            "1  gain      chr16    150  300      155   0.279783\n",
            "7  loss      chr16      5   20      146   0.263538\n",
            "4  gain       chr8     30  100       48   0.086643\n",
            "2  gain      chr22      5   20       48   0.086643\n",
            "0  gain      chr11    150  300       30   0.054152\n"
          ]
        }
      ]
    }
  ]
}